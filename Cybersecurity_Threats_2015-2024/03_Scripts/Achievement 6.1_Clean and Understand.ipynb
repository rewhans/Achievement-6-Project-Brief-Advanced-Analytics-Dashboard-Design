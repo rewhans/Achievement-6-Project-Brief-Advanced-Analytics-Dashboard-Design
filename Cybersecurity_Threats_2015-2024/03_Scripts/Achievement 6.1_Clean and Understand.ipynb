{
 "cells": [
  {
   "cell_type": "markdown",
   "id": "dfad2398-ecfe-46e2-85d4-9e2df4ed814e",
   "metadata": {},
   "source": [
    "# Achievement 6.1_Clean and Understand\n",
    "\n",
    "## Contents\n",
    "### Importing Libraries\n",
    "### Importing Data\n",
    "### Reviewing Data after import\n",
    "### Missing Values Check\n",
    "### Dataset Shape\n",
    "### Duplications Check\n",
    "### Basic Statistical Analysis\n",
    "### Review and Uniformizing of Data Types\n",
    "### Generate New Dataframe to make changes to so original can be preserved\n",
    "### Exporting Working Dataframe"
   ]
  },
  {
   "cell_type": "markdown",
   "id": "8a16b082-c689-455e-be46-d31234e2eae6",
   "metadata": {},
   "source": [
    "### Importing Libraries"
   ]
  },
  {
   "cell_type": "code",
   "execution_count": 40,
   "id": "d690fcda-2eb7-46a2-9e8f-28841107725e",
   "metadata": {},
   "outputs": [],
   "source": [
    "# importing libraries\n",
    "import pandas as pd\n",
    "import numpy as mp\n",
    "import os"
   ]
  },
  {
   "cell_type": "markdown",
   "id": "6eb0874c-6981-402d-8448-882eda0a14f3",
   "metadata": {},
   "source": [
    "### Importing Data"
   ]
  },
  {
   "cell_type": "code",
   "execution_count": 43,
   "id": "33a4a186-6545-40f3-b8f2-220bbee09689",
   "metadata": {},
   "outputs": [],
   "source": [
    "# Load the dataset\n",
    "full_df = pd.read_csv(r'C:\\Users\\rewha\\Desktop\\0.CareerFoundry\\2.Data Immersion_ACH 06-Advanced Analytics and Dashboard Design\\02_Data\\02.01_Data Raw\\Global_Cybersecurity_Threats_2015-2024-Raw.csv')"
   ]
  },
  {
   "cell_type": "markdown",
   "id": "f201f912-8812-4995-866e-7a6ba1d38b71",
   "metadata": {
    "jp-MarkdownHeadingCollapsed": true
   },
   "source": [
    "### Reviewing Data after import"
   ]
  },
  {
   "cell_type": "code",
   "execution_count": 52,
   "id": "825970e0-d7e0-4df9-9137-43002648fd3e",
   "metadata": {},
   "outputs": [
    {
     "data": {
      "text/html": [
       "<div>\n",
       "<style scoped>\n",
       "    .dataframe tbody tr th:only-of-type {\n",
       "        vertical-align: middle;\n",
       "    }\n",
       "\n",
       "    .dataframe tbody tr th {\n",
       "        vertical-align: top;\n",
       "    }\n",
       "\n",
       "    .dataframe thead th {\n",
       "        text-align: right;\n",
       "    }\n",
       "</style>\n",
       "<table border=\"1\" class=\"dataframe\">\n",
       "  <thead>\n",
       "    <tr style=\"text-align: right;\">\n",
       "      <th></th>\n",
       "      <th>Country</th>\n",
       "      <th>Year</th>\n",
       "      <th>Attack Type</th>\n",
       "      <th>Target Industry</th>\n",
       "      <th>Financial Loss (in Million $)</th>\n",
       "      <th>Number of Affected Users</th>\n",
       "      <th>Attack Source</th>\n",
       "      <th>Security Vulnerability Type</th>\n",
       "      <th>Defense Mechanism Used</th>\n",
       "      <th>Incident Resolution Time (in Hours)</th>\n",
       "    </tr>\n",
       "  </thead>\n",
       "  <tbody>\n",
       "    <tr>\n",
       "      <th>0</th>\n",
       "      <td>China</td>\n",
       "      <td>2019</td>\n",
       "      <td>Phishing</td>\n",
       "      <td>Education</td>\n",
       "      <td>80.53</td>\n",
       "      <td>773169</td>\n",
       "      <td>Hacker Group</td>\n",
       "      <td>Unpatched Software</td>\n",
       "      <td>VPN</td>\n",
       "      <td>63</td>\n",
       "    </tr>\n",
       "    <tr>\n",
       "      <th>1</th>\n",
       "      <td>China</td>\n",
       "      <td>2019</td>\n",
       "      <td>Ransomware</td>\n",
       "      <td>Retail</td>\n",
       "      <td>62.19</td>\n",
       "      <td>295961</td>\n",
       "      <td>Hacker Group</td>\n",
       "      <td>Unpatched Software</td>\n",
       "      <td>Firewall</td>\n",
       "      <td>71</td>\n",
       "    </tr>\n",
       "    <tr>\n",
       "      <th>2</th>\n",
       "      <td>India</td>\n",
       "      <td>2017</td>\n",
       "      <td>Man-in-the-Middle</td>\n",
       "      <td>IT</td>\n",
       "      <td>38.65</td>\n",
       "      <td>605895</td>\n",
       "      <td>Hacker Group</td>\n",
       "      <td>Weak Passwords</td>\n",
       "      <td>VPN</td>\n",
       "      <td>20</td>\n",
       "    </tr>\n",
       "    <tr>\n",
       "      <th>3</th>\n",
       "      <td>UK</td>\n",
       "      <td>2024</td>\n",
       "      <td>Ransomware</td>\n",
       "      <td>Telecommunications</td>\n",
       "      <td>41.44</td>\n",
       "      <td>659320</td>\n",
       "      <td>Nation-state</td>\n",
       "      <td>Social Engineering</td>\n",
       "      <td>AI-based Detection</td>\n",
       "      <td>7</td>\n",
       "    </tr>\n",
       "    <tr>\n",
       "      <th>4</th>\n",
       "      <td>Germany</td>\n",
       "      <td>2018</td>\n",
       "      <td>Man-in-the-Middle</td>\n",
       "      <td>IT</td>\n",
       "      <td>74.41</td>\n",
       "      <td>810682</td>\n",
       "      <td>Insider</td>\n",
       "      <td>Social Engineering</td>\n",
       "      <td>VPN</td>\n",
       "      <td>68</td>\n",
       "    </tr>\n",
       "  </tbody>\n",
       "</table>\n",
       "</div>"
      ],
      "text/plain": [
       "   Country  Year        Attack Type     Target Industry  \\\n",
       "0    China  2019           Phishing           Education   \n",
       "1    China  2019         Ransomware              Retail   \n",
       "2    India  2017  Man-in-the-Middle                  IT   \n",
       "3       UK  2024         Ransomware  Telecommunications   \n",
       "4  Germany  2018  Man-in-the-Middle                  IT   \n",
       "\n",
       "   Financial Loss (in Million $)  Number of Affected Users Attack Source  \\\n",
       "0                          80.53                    773169  Hacker Group   \n",
       "1                          62.19                    295961  Hacker Group   \n",
       "2                          38.65                    605895  Hacker Group   \n",
       "3                          41.44                    659320  Nation-state   \n",
       "4                          74.41                    810682       Insider   \n",
       "\n",
       "  Security Vulnerability Type Defense Mechanism Used  \\\n",
       "0          Unpatched Software                    VPN   \n",
       "1          Unpatched Software               Firewall   \n",
       "2              Weak Passwords                    VPN   \n",
       "3          Social Engineering     AI-based Detection   \n",
       "4          Social Engineering                    VPN   \n",
       "\n",
       "   Incident Resolution Time (in Hours)  \n",
       "0                                   63  \n",
       "1                                   71  \n",
       "2                                   20  \n",
       "3                                    7  \n",
       "4                                   68  "
      ]
     },
     "execution_count": 52,
     "metadata": {},
     "output_type": "execute_result"
    }
   ],
   "source": [
    "# Verify Data Structure\n",
    "full_df.head()"
   ]
  },
  {
   "cell_type": "markdown",
   "id": "5acfc422-debf-4134-9c2c-39f0347bf2cb",
   "metadata": {},
   "source": [
    "### Missing Values Check"
   ]
  },
  {
   "cell_type": "code",
   "execution_count": 57,
   "id": "e84857f7-6204-41de-a105-bbbf10da713f",
   "metadata": {},
   "outputs": [
    {
     "data": {
      "text/plain": [
       "Country                                0\n",
       "Year                                   0\n",
       "Attack Type                            0\n",
       "Target Industry                        0\n",
       "Financial Loss (in Million $)          0\n",
       "Number of Affected Users               0\n",
       "Attack Source                          0\n",
       "Security Vulnerability Type            0\n",
       "Defense Mechanism Used                 0\n",
       "Incident Resolution Time (in Hours)    0\n",
       "dtype: int64"
      ]
     },
     "execution_count": 57,
     "metadata": {},
     "output_type": "execute_result"
    }
   ],
   "source": [
    "# Looking for missing values\n",
    "full_df.isnull().sum()"
   ]
  },
  {
   "cell_type": "code",
   "execution_count": 59,
   "id": "48331fe5-023e-422c-9100-99b12e3fdaea",
   "metadata": {},
   "outputs": [],
   "source": [
    "# viewing missing 16 values under product_name\n",
    "#NOT NEEDED!\n",
    "#full_df_nan = full_df[full_df['product_name'].isnull() == True]"
   ]
  },
  {
   "cell_type": "code",
   "execution_count": 61,
   "id": "02ac9903-2532-4c22-b941-6aa5bb6ff9ae",
   "metadata": {},
   "outputs": [],
   "source": [
    "#NOT NEEDED!\n",
    "#full_df_nan"
   ]
  },
  {
   "cell_type": "markdown",
   "id": "51be3464-354d-44bc-bbf3-92d8380fd8d8",
   "metadata": {},
   "source": [
    "### Dataset Shape"
   ]
  },
  {
   "cell_type": "code",
   "execution_count": 64,
   "id": "461df0f8-03ac-4bdf-8e48-6831efb52099",
   "metadata": {},
   "outputs": [
    {
     "data": {
      "text/plain": [
       "(3000, 10)"
      ]
     },
     "execution_count": 64,
     "metadata": {},
     "output_type": "execute_result"
    }
   ],
   "source": [
    "full_df.shape"
   ]
  },
  {
   "cell_type": "markdown",
   "id": "52791ae7-a33b-4f38-bb5e-626f45f34a12",
   "metadata": {},
   "source": [
    "### Duplications Check"
   ]
  },
  {
   "cell_type": "code",
   "execution_count": 67,
   "id": "18391b64-bc25-48e7-9b58-088d42b52fba",
   "metadata": {},
   "outputs": [],
   "source": [
    "# creates new dataframe to utilize duplicated() function to identify duplicate rows\n",
    "full_df_dups = full_df[full_df.duplicated()]"
   ]
  },
  {
   "cell_type": "code",
   "execution_count": 69,
   "id": "19ac1be9-bc29-4eab-aac7-08847d1c661c",
   "metadata": {},
   "outputs": [
    {
     "data": {
      "text/html": [
       "<div>\n",
       "<style scoped>\n",
       "    .dataframe tbody tr th:only-of-type {\n",
       "        vertical-align: middle;\n",
       "    }\n",
       "\n",
       "    .dataframe tbody tr th {\n",
       "        vertical-align: top;\n",
       "    }\n",
       "\n",
       "    .dataframe thead th {\n",
       "        text-align: right;\n",
       "    }\n",
       "</style>\n",
       "<table border=\"1\" class=\"dataframe\">\n",
       "  <thead>\n",
       "    <tr style=\"text-align: right;\">\n",
       "      <th></th>\n",
       "      <th>Country</th>\n",
       "      <th>Year</th>\n",
       "      <th>Attack Type</th>\n",
       "      <th>Target Industry</th>\n",
       "      <th>Financial Loss (in Million $)</th>\n",
       "      <th>Number of Affected Users</th>\n",
       "      <th>Attack Source</th>\n",
       "      <th>Security Vulnerability Type</th>\n",
       "      <th>Defense Mechanism Used</th>\n",
       "      <th>Incident Resolution Time (in Hours)</th>\n",
       "    </tr>\n",
       "  </thead>\n",
       "  <tbody>\n",
       "  </tbody>\n",
       "</table>\n",
       "</div>"
      ],
      "text/plain": [
       "Empty DataFrame\n",
       "Columns: [Country, Year, Attack Type, Target Industry, Financial Loss (in Million $), Number of Affected Users, Attack Source, Security Vulnerability Type, Defense Mechanism Used, Incident Resolution Time (in Hours)]\n",
       "Index: []"
      ]
     },
     "execution_count": 69,
     "metadata": {},
     "output_type": "execute_result"
    }
   ],
   "source": [
    "# display duplicates rows\n",
    "full_df_dups"
   ]
  },
  {
   "cell_type": "markdown",
   "id": "61c81959-4ea8-44d1-bb3c-98e98efe2304",
   "metadata": {},
   "source": [
    "### Basic Statistical Analysis"
   ]
  },
  {
   "cell_type": "code",
   "execution_count": 72,
   "id": "8bc09c16-71f2-4ab7-b3e9-264b9147e540",
   "metadata": {},
   "outputs": [
    {
     "data": {
      "text/html": [
       "<div>\n",
       "<style scoped>\n",
       "    .dataframe tbody tr th:only-of-type {\n",
       "        vertical-align: middle;\n",
       "    }\n",
       "\n",
       "    .dataframe tbody tr th {\n",
       "        vertical-align: top;\n",
       "    }\n",
       "\n",
       "    .dataframe thead th {\n",
       "        text-align: right;\n",
       "    }\n",
       "</style>\n",
       "<table border=\"1\" class=\"dataframe\">\n",
       "  <thead>\n",
       "    <tr style=\"text-align: right;\">\n",
       "      <th></th>\n",
       "      <th>Year</th>\n",
       "      <th>Financial Loss (in Million $)</th>\n",
       "      <th>Number of Affected Users</th>\n",
       "      <th>Incident Resolution Time (in Hours)</th>\n",
       "    </tr>\n",
       "  </thead>\n",
       "  <tbody>\n",
       "    <tr>\n",
       "      <th>count</th>\n",
       "      <td>3000.000000</td>\n",
       "      <td>3000.000000</td>\n",
       "      <td>3000.000000</td>\n",
       "      <td>3000.000000</td>\n",
       "    </tr>\n",
       "    <tr>\n",
       "      <th>mean</th>\n",
       "      <td>2019.570333</td>\n",
       "      <td>50.492970</td>\n",
       "      <td>504684.136333</td>\n",
       "      <td>36.476000</td>\n",
       "    </tr>\n",
       "    <tr>\n",
       "      <th>std</th>\n",
       "      <td>2.857932</td>\n",
       "      <td>28.791415</td>\n",
       "      <td>289944.084972</td>\n",
       "      <td>20.570768</td>\n",
       "    </tr>\n",
       "    <tr>\n",
       "      <th>min</th>\n",
       "      <td>2015.000000</td>\n",
       "      <td>0.500000</td>\n",
       "      <td>424.000000</td>\n",
       "      <td>1.000000</td>\n",
       "    </tr>\n",
       "    <tr>\n",
       "      <th>25%</th>\n",
       "      <td>2017.000000</td>\n",
       "      <td>25.757500</td>\n",
       "      <td>255805.250000</td>\n",
       "      <td>19.000000</td>\n",
       "    </tr>\n",
       "    <tr>\n",
       "      <th>50%</th>\n",
       "      <td>2020.000000</td>\n",
       "      <td>50.795000</td>\n",
       "      <td>504513.000000</td>\n",
       "      <td>37.000000</td>\n",
       "    </tr>\n",
       "    <tr>\n",
       "      <th>75%</th>\n",
       "      <td>2022.000000</td>\n",
       "      <td>75.630000</td>\n",
       "      <td>758088.500000</td>\n",
       "      <td>55.000000</td>\n",
       "    </tr>\n",
       "    <tr>\n",
       "      <th>max</th>\n",
       "      <td>2024.000000</td>\n",
       "      <td>99.990000</td>\n",
       "      <td>999635.000000</td>\n",
       "      <td>72.000000</td>\n",
       "    </tr>\n",
       "  </tbody>\n",
       "</table>\n",
       "</div>"
      ],
      "text/plain": [
       "              Year  Financial Loss (in Million $)  Number of Affected Users  \\\n",
       "count  3000.000000                    3000.000000               3000.000000   \n",
       "mean   2019.570333                      50.492970             504684.136333   \n",
       "std       2.857932                      28.791415             289944.084972   \n",
       "min    2015.000000                       0.500000                424.000000   \n",
       "25%    2017.000000                      25.757500             255805.250000   \n",
       "50%    2020.000000                      50.795000             504513.000000   \n",
       "75%    2022.000000                      75.630000             758088.500000   \n",
       "max    2024.000000                      99.990000             999635.000000   \n",
       "\n",
       "       Incident Resolution Time (in Hours)  \n",
       "count                          3000.000000  \n",
       "mean                             36.476000  \n",
       "std                              20.570768  \n",
       "min                               1.000000  \n",
       "25%                              19.000000  \n",
       "50%                              37.000000  \n",
       "75%                              55.000000  \n",
       "max                              72.000000  "
      ]
     },
     "execution_count": 72,
     "metadata": {},
     "output_type": "execute_result"
    }
   ],
   "source": [
    "full_df.describe()"
   ]
  },
  {
   "cell_type": "code",
   "execution_count": 98,
   "id": "b35394f2-688e-49a4-97f1-66340bb9a11c",
   "metadata": {},
   "outputs": [],
   "source": [
    "### Counts on Qualitative Variables"
   ]
  },
  {
   "cell_type": "code",
   "execution_count": 102,
   "id": "b47b7fc2-5e8b-400c-90d3-5033177ef628",
   "metadata": {},
   "outputs": [
    {
     "data": {
      "text/plain": [
       "Country\n",
       "UK           321\n",
       "Brazil       310\n",
       "India        308\n",
       "France       305\n",
       "Japan        305\n",
       "Australia    297\n",
       "Russia       295\n",
       "Germany      291\n",
       "USA          287\n",
       "China        281\n",
       "Name: count, dtype: int64"
      ]
     },
     "execution_count": 102,
     "metadata": {},
     "output_type": "execute_result"
    }
   ],
   "source": [
    "full_df['Country'].value_counts()"
   ]
  },
  {
   "cell_type": "code",
   "execution_count": 104,
   "id": "86c9efa1-0514-4403-b799-22c54a02f1eb",
   "metadata": {},
   "outputs": [
    {
     "data": {
      "text/plain": [
       "Attack Type\n",
       "DDoS                 531\n",
       "Phishing             529\n",
       "SQL Injection        503\n",
       "Ransomware           493\n",
       "Malware              485\n",
       "Man-in-the-Middle    459\n",
       "Name: count, dtype: int64"
      ]
     },
     "execution_count": 104,
     "metadata": {},
     "output_type": "execute_result"
    }
   ],
   "source": [
    "full_df['Attack Type'].value_counts()"
   ]
  },
  {
   "cell_type": "code",
   "execution_count": 106,
   "id": "93900846-abe8-4be6-b536-24a9201fa0cc",
   "metadata": {
    "scrolled": true
   },
   "outputs": [
    {
     "data": {
      "text/plain": [
       "Target Industry\n",
       "IT                    478\n",
       "Banking               445\n",
       "Healthcare            429\n",
       "Retail                423\n",
       "Education             419\n",
       "Telecommunications    403\n",
       "Government            403\n",
       "Name: count, dtype: int64"
      ]
     },
     "execution_count": 106,
     "metadata": {},
     "output_type": "execute_result"
    }
   ],
   "source": [
    "full_df['Target Industry'].value_counts()"
   ]
  },
  {
   "cell_type": "code",
   "execution_count": 108,
   "id": "ff44f3c2-b300-4a6c-84d4-f3c2c62ed049",
   "metadata": {},
   "outputs": [
    {
     "data": {
      "text/plain": [
       "Attack Source\n",
       "Nation-state    794\n",
       "Unknown         768\n",
       "Insider         752\n",
       "Hacker Group    686\n",
       "Name: count, dtype: int64"
      ]
     },
     "execution_count": 108,
     "metadata": {},
     "output_type": "execute_result"
    }
   ],
   "source": [
    "full_df['Attack Source'].value_counts()"
   ]
  },
  {
   "cell_type": "code",
   "execution_count": 110,
   "id": "fe1cfc94-e4c3-4239-92ae-f140d62374fe",
   "metadata": {},
   "outputs": [
    {
     "data": {
      "text/plain": [
       "Security Vulnerability Type\n",
       "Zero-day              785\n",
       "Social Engineering    747\n",
       "Unpatched Software    738\n",
       "Weak Passwords        730\n",
       "Name: count, dtype: int64"
      ]
     },
     "execution_count": 110,
     "metadata": {},
     "output_type": "execute_result"
    }
   ],
   "source": [
    "full_df['Security Vulnerability Type'].value_counts()"
   ]
  },
  {
   "cell_type": "code",
   "execution_count": 114,
   "id": "eb2358c6-6199-4b1e-b794-e881a37cd9a4",
   "metadata": {},
   "outputs": [
    {
     "data": {
      "text/plain": [
       "Defense Mechanism Used\n",
       "Antivirus             628\n",
       "VPN                   612\n",
       "Encryption            592\n",
       "Firewall              585\n",
       "AI-based Detection    583\n",
       "Name: count, dtype: int64"
      ]
     },
     "execution_count": 114,
     "metadata": {},
     "output_type": "execute_result"
    }
   ],
   "source": [
    "full_df['Defense Mechanism Used'].value_counts()"
   ]
  },
  {
   "cell_type": "markdown",
   "id": "4c2a64c5-555f-42fc-86f3-22becf2da25e",
   "metadata": {},
   "source": [
    "### Review and Uniformizing of Data Types"
   ]
  },
  {
   "cell_type": "code",
   "execution_count": 75,
   "id": "8343ced2-5e28-46ae-84fc-46ade450bfa5",
   "metadata": {},
   "outputs": [
    {
     "data": {
      "text/plain": [
       "Country                                 object\n",
       "Year                                     int64\n",
       "Attack Type                             object\n",
       "Target Industry                         object\n",
       "Financial Loss (in Million $)          float64\n",
       "Number of Affected Users                 int64\n",
       "Attack Source                           object\n",
       "Security Vulnerability Type             object\n",
       "Defense Mechanism Used                  object\n",
       "Incident Resolution Time (in Hours)      int64\n",
       "dtype: object"
      ]
     },
     "execution_count": 75,
     "metadata": {},
     "output_type": "execute_result"
    }
   ],
   "source": [
    "full_df.dtypes"
   ]
  },
  {
   "cell_type": "markdown",
   "id": "fb5c656e-3975-4bfd-b126-8256aa1e23d0",
   "metadata": {},
   "source": [
    "### Generate New Dataframe to make changes to so original can be preserved"
   ]
  },
  {
   "cell_type": "code",
   "execution_count": 78,
   "id": "93cbc2d8-b661-4f4b-b9e0-58d37efe58fb",
   "metadata": {},
   "outputs": [],
   "source": [
    "# Going to be modifying the actual values so creating a secondary working dataframe so that I can keep the original in its state to prevent data loss.\n",
    "working_df = full_df.copy()"
   ]
  },
  {
   "cell_type": "code",
   "execution_count": 80,
   "id": "eaf652b2-f4e7-4038-9b71-4f917fc73b37",
   "metadata": {},
   "outputs": [],
   "source": [
    "# NOTE: Found the next few checks during a python tutorial but wanted to try them. Will Comment out should they cause issues!\n",
    "# Remove whitespace and convert to title case for consistent category naming\n",
    "working_df['Attack Type'] = working_df['Attack Type'].str.strip().str.title()\n",
    "working_df['Attack Source'] = working_df['Attack Source'].str.strip().str.title()\n",
    "working_df['Target Industry'] = working_df['Target Industry'].str.strip().str.title()\n"
   ]
  },
  {
   "cell_type": "code",
   "execution_count": 82,
   "id": "8df5729a-435d-4ecd-8201-493e3ec28167",
   "metadata": {},
   "outputs": [
    {
     "data": {
      "text/plain": [
       "Country                                 object\n",
       "Year                                     int64\n",
       "Attack Type                             object\n",
       "Target Industry                         object\n",
       "Financial Loss (in Million $)          float64\n",
       "Number of Affected Users                 int64\n",
       "Attack Source                           object\n",
       "Security Vulnerability Type             object\n",
       "Defense Mechanism Used                  object\n",
       "Incident Resolution Time (in Hours)      int64\n",
       "dtype: object"
      ]
     },
     "execution_count": 82,
     "metadata": {},
     "output_type": "execute_result"
    }
   ],
   "source": [
    "full_df.dtypes"
   ]
  },
  {
   "cell_type": "code",
   "execution_count": 84,
   "id": "8f1e5dc4-bf26-4e03-bff3-bcac9e81f525",
   "metadata": {},
   "outputs": [],
   "source": [
    "# Ensure numeric columns are correct\n",
    "working_df['Number of Affected Users'] = pd.to_numeric(working_df['Number of Affected Users'], errors='coerce')\n",
    "working_df['Financial Loss (in Million $)'] = pd.to_numeric(working_df['Financial Loss (in Million $)'], errors='coerce')\n",
    "working_df['Incident Resolution Time (in Hours)'] = pd.to_numeric(working_df['Incident Resolution Time (in Hours)'], errors='coerce')\n"
   ]
  },
  {
   "cell_type": "code",
   "execution_count": 86,
   "id": "e9395588-af50-44c8-b03b-12ee83fd7b22",
   "metadata": {},
   "outputs": [
    {
     "data": {
      "text/plain": [
       "Country                                 object\n",
       "Year                                     int64\n",
       "Attack Type                             object\n",
       "Target Industry                         object\n",
       "Financial Loss (in Million $)          float64\n",
       "Number of Affected Users                 int64\n",
       "Attack Source                           object\n",
       "Security Vulnerability Type             object\n",
       "Defense Mechanism Used                  object\n",
       "Incident Resolution Time (in Hours)      int64\n",
       "dtype: object"
      ]
     },
     "execution_count": 86,
     "metadata": {},
     "output_type": "execute_result"
    }
   ],
   "source": [
    "full_df.dtypes"
   ]
  },
  {
   "cell_type": "markdown",
   "id": "807325d9-c36d-4795-8f8c-36a4a1cfee5d",
   "metadata": {},
   "source": [
    "### Exporting Working Dataframe"
   ]
  },
  {
   "cell_type": "code",
   "execution_count": 89,
   "id": "f5cd5e93-ce42-45af-a7e3-6c1f428b15c4",
   "metadata": {},
   "outputs": [],
   "source": [
    "# exporting new prods csv to Prepared Data folder\n",
    "working_df.to_csv(os.path.join(r'C:\\Users\\rewha\\Desktop\\0.CareerFoundry\\2.Data Immersion_ACH 06-Advanced Analytics and Dashboard Design\\02_Data\\02.02_Data Cleaned\\Global_Cybersecurity_Threats_2015-2024-First_Pass.csv'))"
   ]
  },
  {
   "cell_type": "code",
   "execution_count": null,
   "id": "d0e192d5-ae82-4035-abc1-ec8dfd545e1e",
   "metadata": {},
   "outputs": [],
   "source": []
  }
 ],
 "metadata": {
  "kernelspec": {
   "display_name": "Python [conda env:base] *",
   "language": "python",
   "name": "conda-base-py"
  },
  "language_info": {
   "codemirror_mode": {
    "name": "ipython",
    "version": 3
   },
   "file_extension": ".py",
   "mimetype": "text/x-python",
   "name": "python",
   "nbconvert_exporter": "python",
   "pygments_lexer": "ipython3",
   "version": "3.12.7"
  }
 },
 "nbformat": 4,
 "nbformat_minor": 5
}
